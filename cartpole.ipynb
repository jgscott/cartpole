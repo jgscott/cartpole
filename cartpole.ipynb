{
 "cells": [
  {
   "cell_type": "code",
   "execution_count": 1,
   "metadata": {},
   "outputs": [],
   "source": [
    "import gym\n",
    "import matplotlib.pyplot as plt\n",
    "import numpy as np\n",
    "import sys\n",
    "import random\n",
    "\n",
    "\n",
    "from gym import spaces, logger\n",
    "from gym.utils import seeding\n",
    "\n",
    "# custom environment and agent classes\n",
    "from cartpole_custom import *"
   ]
  },
  {
   "cell_type": "code",
   "execution_count": 2,
   "metadata": {},
   "outputs": [],
   "source": [
    "# # random behavior\n",
    "# env = CustomCartPoleEnv()\n",
    "# env.reset()\n",
    "\n",
    "# for _ in range(5):\n",
    "#     env.reset()\n",
    "#     done = False\n",
    "#     step_counter = 0\n",
    "#     sum_rewards = 0\n",
    "#     for _ in range(50):\n",
    "#         env.render()\n",
    "#         state, reward, done, info = env.step(env.action_space.sample()) # take a random action\n",
    "        \n",
    "# env.close()\n"
   ]
  },
  {
   "cell_type": "code",
   "execution_count": 3,
   "metadata": {},
   "outputs": [],
   "source": [
    "# # collect some statistics on states visited under random policy\n",
    "# # used for subsequent discretization of state space for tabular Q learning\n",
    "# nmc = 10000\n",
    "# saved_states = []\n",
    "\n",
    "# for i in range(nmc):\n",
    "#     env.reset()\n",
    "#     done = False\n",
    "#     step_counter = 0\n",
    "#     sum_rewards = 0\n",
    "#     while not done:\n",
    "#         state, reward, done, info = env.step(env.action_space.sample()) # take a random action\n",
    "#         step_counter += 1\n",
    "#         sum_rewards += reward\n",
    "#         saved_states.append(state)\n",
    "\n",
    "\n",
    "# n_points = 2\n",
    "# q = np.linspace(0,1,n_points*2)\n",
    "# cutpoints = np.quantile(saved_states, q, axis=0)\n",
    "# cutpoints = np.insert(cutpoints, n_points, 0, 0) \n",
    "\n",
    "# q = np.linspace(0.5/n_points, 1, n_points)\n",
    "# cut_pos = np.quantile(np.abs(saved_states), q, axis=0)\n",
    "# cutpoints = np.concatenate((np.flip(-cut_pos,0), cut_pos), axis=0)\n",
    "# cutpoints = np.insert(cutpoints, n_points, 0, 0) \n",
    "# print(cutpoints)"
   ]
  },
  {
   "cell_type": "code",
   "execution_count": 4,
   "metadata": {},
   "outputs": [
    {
     "name": "stdout",
     "output_type": "stream",
     "text": [
      "[[-1.4   -2.9   -0.26  -3.34 ]\n",
      " [-0.021 -0.18  -0.027 -0.27 ]\n",
      " [ 0.     0.     0.     0.   ]\n",
      " [ 0.021  0.18   0.027  0.27 ]\n",
      " [ 1.4    2.9    0.26   3.34 ]]\n"
     ]
    }
   ],
   "source": [
    "# cutpoints = np.array([[-2.4, -0.075 ,-0.035, -0.01, 0, 0.01, 0.035, 0.075, 2.4],\n",
    "#                       [-3.9, -0.58, -0.24, -0.045, 0, 0.045, 0.24, 0.58, 3.9],\n",
    "#                       [-0.27, -0.11, -0.047, -0.013, 0, 0.013, 0.047, 0.11, 0.27],\n",
    "#                       [-3.68, -0.89, -0.44, -0.12, 0, 0.12, 0.44, 0.89, 3.68]]).transpose()\n",
    "\n",
    "\n",
    "# sparser state-space representation\n",
    "cutpoints = np.array([[-1.4, -0.021, 0, 0.021, 1.4],\n",
    "                      [-2.9, -0.18, 0, 0.18, 2.9],\n",
    "                      [-0.26, -0.027, 0, 0.027, 0.26],\n",
    "                      [-3.34, -0.27, 0, 0.27, 3.34]]).transpose()\n",
    "\n",
    "print(cutpoints)"
   ]
  },
  {
   "cell_type": "code",
   "execution_count": 5,
   "metadata": {},
   "outputs": [],
   "source": [
    "###\n",
    "# SARSA(lambda) learning\n",
    "###\n",
    "\n",
    "env = CustomCartPoleEnv()\n",
    "env.reset()\n",
    "agent = CartPoleSarsaLambdaLearner(env, cutpoints)\n",
    "\n",
    "alpha_decay = 0.995\n",
    "alpha_min = 0.001\n",
    "alpha = 0.2\n",
    "lam = 0.8\n",
    "gam = 0.99\n",
    "\n",
    "\n",
    "# run some steps\n",
    "num_episodes = 500\n",
    "survived = np.zeros(num_episodes)\n",
    "\n",
    "for i in range(num_episodes):\n",
    "    eps = 1.0/(1.0+i)\n",
    "    state = env.reset()\n",
    "    done = False\n",
    "    step_counter = 0\n",
    "    sum_rewards = 0\n",
    "    \n",
    "    # reset the eligibility trace for this episode\n",
    "    agent.resetZ()\n",
    "    \n",
    "    # choose initial action according to epsilon-greedy version of the policy\n",
    "    action = agent.choose_action(state, eps=eps)\n",
    "    \n",
    "    while not done and step_counter < 2500:\n",
    "        \n",
    "        # we know the SA in SARSA from previous step\n",
    "        # now get RSA (reward, next_state, next_action)\n",
    "        next_state, reward, done, info = env.step(action)\n",
    "        next_action = agent.choose_action(next_state, eps=eps)\n",
    "        \n",
    "        # update the Q function\n",
    "        SARSA = [state, action, reward, next_state, next_action]\n",
    "        agent.update_Q(SARSA, alpha = alpha, gamma = gam, lam=lam)\n",
    "        \n",
    "        # bookkeeping\n",
    "        state = next_state\n",
    "        action = next_action\n",
    "        step_counter += 1\n",
    "        sum_rewards += reward\n",
    "\n",
    "    survived[i] = step_counter\n",
    "    \n",
    "    # decay alpha\n",
    "    alpha = max(alpha_min, alpha*alpha_decay)\n"
   ]
  },
  {
   "cell_type": "code",
   "execution_count": 6,
   "metadata": {},
   "outputs": [
    {
     "data": {
      "text/plain": [
       "<matplotlib.lines.Line2D at 0x7f8b68ba0f40>"
      ]
     },
     "execution_count": 6,
     "metadata": {},
     "output_type": "execute_result"
    },
    {
     "data": {
      "image/png": "[encoded data removed]",
      "text/plain": [
       "<Figure size 432x288 with 1 Axes>"
      ]
     },
     "metadata": {
      "needs_background": "light"
     },
     "output_type": "display_data"
    }
   ],
   "source": [
    "fig, ax = plt.subplots()\n",
    "ax.set_yscale('log')\n",
    "ax.plot(range(1, num_episodes+1), survived)\n",
    "ax.axhline(500, color='black', lw=2)"
   ]
  },
  {
   "cell_type": "code",
   "execution_count": 7,
   "metadata": {},
   "outputs": [
    {
     "name": "stdout",
     "output_type": "stream",
     "text": [
      "500\n",
      "500\n",
      "500\n"
     ]
    }
   ],
   "source": [
    "agent.show_n_episodes(env, 3)"
   ]
  },
  {
   "cell_type": "code",
   "execution_count": 8,
   "metadata": {},
   "outputs": [
    {
     "name": "stdout",
     "output_type": "stream",
     "text": [
      "0.12127578897223715\n"
     ]
    }
   ],
   "source": [
    "###\n",
    "# Q learning\n",
    "###\n",
    "\n",
    "env = CustomCartPoleEnv()\n",
    "env.reset()\n",
    "agent = CartPoleQLearner(env, cutpoints)\n",
    "\n",
    "alpha_decay = 0.999\n",
    "alpha_min = 0.001\n",
    "alpha = 0.2\n",
    "gam = 0.999\n",
    "\n",
    "\n",
    "# run some steps\n",
    "num_episodes = 500\n",
    "survived = np.zeros(num_episodes)\n",
    "\n",
    "for i in range(num_episodes):\n",
    "    eps = max(0.1, 1.0/(1.0+i))\n",
    "    state = env.reset()\n",
    "    done = False\n",
    "    step_counter = 0\n",
    "    sum_rewards = 0\n",
    "    \n",
    "    while not done and step_counter < 500:\n",
    "        action = agent.choose_action(state, eps=eps)\n",
    "        next_state, reward, done, info = env.step(action)\n",
    "    \n",
    "        agent.update_Q([state, action, reward, next_state], alpha = alpha, gamma = gam)\n",
    "        step_counter += 1\n",
    "        sum_rewards += reward\n",
    "        state = next_state\n",
    "    \n",
    "    survived[i] = step_counter\n",
    "    # decay alpha\n",
    "    alpha = max(alpha_min, alpha*alpha_decay)\n",
    "\n",
    "print(alpha)\n",
    "env.close()"
   ]
  },
  {
   "cell_type": "code",
   "execution_count": 9,
   "metadata": {},
   "outputs": [
    {
     "data": {
      "text/plain": [
       "[<matplotlib.lines.Line2D at 0x7f8af8130610>]"
      ]
     },
     "execution_count": 9,
     "metadata": {},
     "output_type": "execute_result"
    },
    {
     "data": {
      "image/png": "[encoded data removed]",
      "text/plain": [
       "<Figure size 432x288 with 1 Axes>"
      ]
     },
     "metadata": {
      "needs_background": "light"
     },
     "output_type": "display_data"
    }
   ],
   "source": [
    "fig, ax = plt.subplots() \n",
    "ax.plot(range(1, num_episodes+1), survived) "
   ]
  },
  {
   "cell_type": "code",
   "execution_count": 10,
   "metadata": {},
   "outputs": [
    {
     "name": "stdout",
     "output_type": "stream",
     "text": [
      "500\n",
      "500\n",
      "482\n"
     ]
    }
   ],
   "source": [
    "agent.show_n_episodes(env, 3)"
   ]
  },
  {
   "cell_type": "code",
   "execution_count": 11,
   "metadata": {},
   "outputs": [
    {
     "name": "stdout",
     "output_type": "stream",
     "text": [
      "0.001\n"
     ]
    }
   ],
   "source": [
    "###\n",
    "# Monte Carlo learning\n",
    "###\n",
    "\n",
    "env = CustomCartPoleEnv()\n",
    "env.reset()\n",
    "agent = CartPoleMCLearner(env, cutpoints)\n",
    "\n",
    "alpha_decay = 0.995\n",
    "alpha_min = 0.001\n",
    "alpha = 0.2\n",
    "gam = 0.99\n",
    "\n",
    "\n",
    "# run some steps\n",
    "num_episodes = 2500\n",
    "survived = np.zeros(num_episodes)\n",
    "\n",
    "for i in range(num_episodes):\n",
    "    eps = max(0.1, 1.0/(1.0+i))\n",
    "    state = env.reset()\n",
    "    done = False\n",
    "    step_counter = 0\n",
    "    sum_rewards = 0\n",
    "    episode = []\n",
    "    \n",
    "    while not done and step_counter < 500:\n",
    "        \n",
    "        action = agent.choose_action(state, eps=eps)\n",
    "        next_state, reward, done, info = env.step(action)\n",
    "        step_counter += 1\n",
    "        sum_rewards += reward\n",
    "        episode.append([state, action, reward, next_state])\n",
    "        state = next_state\n",
    "        \n",
    "        \n",
    "    # decay alpha\n",
    "    survived[i] = step_counter\n",
    "    agent.update_Q(episode, alpha = alpha, gamma = gam)\n",
    "    alpha = max(alpha_min, alpha*alpha_decay)\n",
    "\n",
    "print(alpha)\n",
    "env.close()"
   ]
  },
  {
   "cell_type": "code",
   "execution_count": 13,
   "metadata": {},
   "outputs": [
    {
     "data": {
      "text/plain": [
       "[<matplotlib.lines.Line2D at 0x7f8b18b2c4c0>]"
      ]
     },
     "execution_count": 13,
     "metadata": {},
     "output_type": "execute_result"
    },
    {
     "data": {
      "image/png": "[encoded data removed]",
      "text/plain": [
       "<Figure size 432x288 with 1 Axes>"
      ]
     },
     "metadata": {
      "needs_background": "light"
     },
     "output_type": "display_data"
    }
   ],
   "source": [
    "fig, ax = plt.subplots()\n",
    "ax.plot(range(1, num_episodes+1), survived)"
   ]
  },
  {
   "cell_type": "code",
   "execution_count": null,
   "metadata": {},
   "outputs": [],
   "source": [
    "agent.show_n_episodes(env, 3)"
   ]
  }
 ],
 "metadata": {
  "kernelspec": {
   "display_name": "Python 3",
   "language": "python",
   "name": "python3"
  },
  "language_info": {
   "codemirror_mode": {
    "name": "ipython",
    "version": 3
   },
   "file_extension": ".py",
   "mimetype": "text/x-python",
   "name": "python",
   "nbconvert_exporter": "python",
   "pygments_lexer": "ipython3",
   "version": "3.8.5"
  }
 },
 "nbformat": 4,
 "nbformat_minor": 4
}
